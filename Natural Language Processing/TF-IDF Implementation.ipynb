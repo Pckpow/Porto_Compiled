{
  "nbformat": 4,
  "nbformat_minor": 0,
  "metadata": {
    "colab": {
      "provenance": []
    },
    "kernelspec": {
      "name": "python3",
      "display_name": "Python 3"
    },
    "language_info": {
      "name": "python"
    }
  },
  "cells": [
    {
      "cell_type": "markdown",
      "source": [
        "#TUGAS MEMBUAT PROGRAM UNTUK MENGHITUNG TF-IDF SUATU STRING"
      ],
      "metadata": {
        "id": "I8wGG9yZOtPH"
      }
    },
    {
      "cell_type": "markdown",
      "source": [
        "###Cara 1"
      ],
      "metadata": {
        "id": "0Wvkea1xOvWm"
      }
    },
    {
      "cell_type": "code",
      "execution_count": null,
      "metadata": {
        "colab": {
          "base_uri": "https://localhost:8080/"
        },
        "id": "XvA4LzAsEUVO",
        "outputId": "fcfee850-d754-4d9b-db3c-1392ae733bc6"
      },
      "outputs": [
        {
          "output_type": "stream",
          "name": "stdout",
          "text": [
            " Row  This  and     good  is     long  movie      not    scary     slow   spooky     very\n",
            "   1   0.0  0.0 0.000000 0.0 0.156945    0.0 0.000000 0.057924 0.000000 0.000000 0.156945\n",
            "   2   0.0  0.0 0.000000 0.0 0.000000    0.0 0.137327 0.050683 0.137327 0.000000 0.000000\n",
            "   3   0.0  0.0 0.183102 0.0 0.000000    0.0 0.000000 0.000000 0.000000 0.183102 0.000000\n"
          ]
        }
      ],
      "source": [
        "import math\n",
        "import pandas as pd\n",
        "\n",
        "# Define the documents\n",
        "docs = ['This movie is very scary and long',\n",
        "        'This movie is not scary and is slow',\n",
        "        'This movie is spooky and good']\n",
        "\n",
        "# Calculate the term frequency for each document\n",
        "tf_docs = []\n",
        "for doc in docs:\n",
        "    words = doc.split()\n",
        "    total_terms = len(words)\n",
        "    tf_doc = {}\n",
        "    for word in words:\n",
        "        if word in tf_doc:\n",
        "            tf_doc[word] += 1\n",
        "        else:\n",
        "            tf_doc[word] = 1\n",
        "    for word in tf_doc:\n",
        "        tf_doc[word] /= total_terms\n",
        "    tf_docs.append(tf_doc)\n",
        "\n",
        "# Calculate the inverse document frequency for each term\n",
        "idf_terms = {}\n",
        "num_docs = len(docs)\n",
        "for doc in docs:\n",
        "    terms = set(doc.split())\n",
        "    for term in terms:\n",
        "        if term in idf_terms:\n",
        "            idf_terms[term] += 1\n",
        "        else:\n",
        "            idf_terms[term] = 1\n",
        "for term in idf_terms:\n",
        "    idf_terms[term] = math.log(num_docs / idf_terms[term])\n",
        "\n",
        "# Calculate the TF-IDF for each term in each document\n",
        "tfidf_docs = []\n",
        "for tf_doc in tf_docs:\n",
        "    tfidf_doc = {}\n",
        "    for term, tf in tf_doc.items():\n",
        "        tfidf_doc[term] = tf * idf_terms[term]\n",
        "    tfidf_docs.append(tfidf_doc)\n",
        "\n",
        "# Convert the tfidf_docs list to a DataFrame\n",
        "df = pd.DataFrame(tfidf_docs)\n",
        "\n",
        "# Reorder the columns alphabetically\n",
        "df = df.reindex(sorted(df.columns), axis=1)\n",
        "\n",
        "# Replace NaN values with 0.0\n",
        "df = df.fillna(0.0)\n",
        "\n",
        "# Add row numbers to the DataFrame\n",
        "df.insert(loc=0, column='Row', value=range(1, len(df) + 1))\n",
        "\n",
        "# Print the DataFrame\n",
        "print(df.to_string(index=False))"
      ]
    },
    {
      "cell_type": "markdown",
      "source": [
        "###Cara 2"
      ],
      "metadata": {
        "id": "UAI_KQtgO285"
      }
    },
    {
      "cell_type": "code",
      "source": [
        "import math\n",
        "from collections import Counter, defaultdict\n",
        "import pandas as pd\n",
        "\n",
        "# Define the documents\n",
        "docs = ['This movie is very scary and long',\n",
        "        'This movie is not scary and is slow',\n",
        "        'This movie is spooky and good']\n",
        "\n",
        "# Calculate the term frequency for each document\n",
        "tf_docs = [{term: count/len(doc.split()) for term, count in Counter(doc.split()).items()} for doc in docs]\n",
        "\n",
        "# Calculate the inverse document frequency for each term\n",
        "idf_terms = defaultdict(int)\n",
        "for doc in docs:\n",
        "    for term in set(doc.split()):\n",
        "        idf_terms[term] += 1\n",
        "for term in idf_terms:\n",
        "    idf_terms[term] = math.log(len(docs) / idf_terms[term])\n",
        "\n",
        "# Calculate the TF-IDF for each term in each document\n",
        "tfidf_docs = [{term: tf*idf_terms[term] for term, tf in tf_doc.items()} for tf_doc in tf_docs]\n",
        "\n",
        "# Convert the tfidf_docs list to a DataFrame\n",
        "df = pd.DataFrame.from_records(tfidf_docs)\n",
        "\n",
        "# Sort the terms alphabetically\n",
        "df = df.reindex(sorted(df.columns), axis=1)\n",
        "\n",
        "# Replace NaN values with 0.0\n",
        "df = df.fillna(0.0)\n",
        "\n",
        "# Add row numbers to the DataFrame\n",
        "df.insert(loc=0, column='Row', value=range(1, len(df) + 1))\n",
        "\n",
        "# Print the DataFrame\n",
        "print(df.to_string(index=False))\n"
      ],
      "metadata": {
        "colab": {
          "base_uri": "https://localhost:8080/"
        },
        "id": "ELPyjj71O5e8",
        "outputId": "d7095f6c-d4fd-4075-cd49-a6ebfae23901"
      },
      "execution_count": null,
      "outputs": [
        {
          "output_type": "stream",
          "name": "stdout",
          "text": [
            " Row  This  and     good  is     long  movie      not    scary     slow   spooky     very\n",
            "   1   0.0  0.0 0.000000 0.0 0.156945    0.0 0.000000 0.057924 0.000000 0.000000 0.156945\n",
            "   2   0.0  0.0 0.000000 0.0 0.000000    0.0 0.137327 0.050683 0.137327 0.000000 0.000000\n",
            "   3   0.0  0.0 0.183102 0.0 0.000000    0.0 0.000000 0.000000 0.000000 0.183102 0.000000\n"
          ]
        }
      ]
    }
  ]
}