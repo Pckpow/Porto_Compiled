{
  "cells": [
    {
      "cell_type": "code",
      "execution_count": null,
      "id": "846135b8",
      "metadata": {
        "id": "846135b8",
        "outputId": "d9b6b1b6-c9dc-4fbe-d4fe-be2ce0eb89cd"
      },
      "outputs": [
        {
          "name": "stdout",
          "output_type": "stream",
          "text": [
            "Requirement already satisfied: sklearn in c:\\users\\mahdi\\anaconda3\\lib\\site-packages (0.0.post1)\n",
            "Requirement already satisfied: keras in c:\\users\\mahdi\\anaconda3\\lib\\site-packages (2.11.0)\n",
            "Requirement already satisfied: tensorflow in c:\\users\\mahdi\\anaconda3\\lib\\site-packages (2.11.0)\n",
            "Requirement already satisfied: tensorflow-intel==2.11.0 in c:\\users\\mahdi\\anaconda3\\lib\\site-packages (from tensorflow) (2.11.0)\n",
            "Requirement already satisfied: flatbuffers>=2.0 in c:\\users\\mahdi\\anaconda3\\lib\\site-packages (from tensorflow-intel==2.11.0->tensorflow) (23.3.3)\n",
            "Requirement already satisfied: typing-extensions>=3.6.6 in c:\\users\\mahdi\\anaconda3\\lib\\site-packages (from tensorflow-intel==2.11.0->tensorflow) (3.10.0.2)\n",
            "Requirement already satisfied: gast<=0.4.0,>=0.2.1 in c:\\users\\mahdi\\anaconda3\\lib\\site-packages (from tensorflow-intel==2.11.0->tensorflow) (0.4.0)\n",
            "Requirement already satisfied: grpcio<2.0,>=1.24.3 in c:\\users\\mahdi\\anaconda3\\lib\\site-packages (from tensorflow-intel==2.11.0->tensorflow) (1.51.3)\n",
            "Requirement already satisfied: opt-einsum>=2.3.2 in c:\\users\\mahdi\\anaconda3\\lib\\site-packages (from tensorflow-intel==2.11.0->tensorflow) (3.3.0)\n",
            "Requirement already satisfied: keras<2.12,>=2.11.0 in c:\\users\\mahdi\\anaconda3\\lib\\site-packages (from tensorflow-intel==2.11.0->tensorflow) (2.11.0)\n",
            "Requirement already satisfied: tensorflow-io-gcs-filesystem>=0.23.1 in c:\\users\\mahdi\\anaconda3\\lib\\site-packages (from tensorflow-intel==2.11.0->tensorflow) (0.31.0)\n",
            "Requirement already satisfied: setuptools in c:\\users\\mahdi\\anaconda3\\lib\\site-packages (from tensorflow-intel==2.11.0->tensorflow) (58.0.4)\n",
            "Requirement already satisfied: tensorboard<2.12,>=2.11 in c:\\users\\mahdi\\anaconda3\\lib\\site-packages (from tensorflow-intel==2.11.0->tensorflow) (2.11.2)\n",
            "Requirement already satisfied: numpy>=1.20 in c:\\users\\mahdi\\anaconda3\\lib\\site-packages (from tensorflow-intel==2.11.0->tensorflow) (1.20.3)\n",
            "Requirement already satisfied: termcolor>=1.1.0 in c:\\users\\mahdi\\anaconda3\\lib\\site-packages (from tensorflow-intel==2.11.0->tensorflow) (2.2.0)\n",
            "Requirement already satisfied: google-pasta>=0.1.1 in c:\\users\\mahdi\\anaconda3\\lib\\site-packages (from tensorflow-intel==2.11.0->tensorflow) (0.2.0)\n",
            "Requirement already satisfied: six>=1.12.0 in c:\\users\\mahdi\\anaconda3\\lib\\site-packages (from tensorflow-intel==2.11.0->tensorflow) (1.16.0)\n",
            "Requirement already satisfied: tensorflow-estimator<2.12,>=2.11.0 in c:\\users\\mahdi\\anaconda3\\lib\\site-packages (from tensorflow-intel==2.11.0->tensorflow) (2.11.0)\n",
            "Requirement already satisfied: wrapt>=1.11.0 in c:\\users\\mahdi\\anaconda3\\lib\\site-packages (from tensorflow-intel==2.11.0->tensorflow) (1.12.1)\n",
            "Requirement already satisfied: libclang>=13.0.0 in c:\\users\\mahdi\\anaconda3\\lib\\site-packages (from tensorflow-intel==2.11.0->tensorflow) (15.0.6.1)\n",
            "Requirement already satisfied: packaging in c:\\users\\mahdi\\anaconda3\\lib\\site-packages (from tensorflow-intel==2.11.0->tensorflow) (21.0)\n",
            "Requirement already satisfied: astunparse>=1.6.0 in c:\\users\\mahdi\\anaconda3\\lib\\site-packages (from tensorflow-intel==2.11.0->tensorflow) (1.6.3)\n",
            "Requirement already satisfied: protobuf<3.20,>=3.9.2 in c:\\users\\mahdi\\anaconda3\\lib\\site-packages (from tensorflow-intel==2.11.0->tensorflow) (3.19.6)\n",
            "Requirement already satisfied: h5py>=2.9.0 in c:\\users\\mahdi\\anaconda3\\lib\\site-packages (from tensorflow-intel==2.11.0->tensorflow) (3.2.1)\n",
            "Requirement already satisfied: absl-py>=1.0.0 in c:\\users\\mahdi\\anaconda3\\lib\\site-packages (from tensorflow-intel==2.11.0->tensorflow) (1.4.0)\n",
            "Requirement already satisfied: wheel<1.0,>=0.23.0 in c:\\users\\mahdi\\anaconda3\\lib\\site-packages (from astunparse>=1.6.0->tensorflow-intel==2.11.0->tensorflow) (0.37.0)\n",
            "Requirement already satisfied: tensorboard-data-server<0.7.0,>=0.6.0 in c:\\users\\mahdi\\anaconda3\\lib\\site-packages (from tensorboard<2.12,>=2.11->tensorflow-intel==2.11.0->tensorflow) (0.6.1)\n",
            "Requirement already satisfied: markdown>=2.6.8 in c:\\users\\mahdi\\anaconda3\\lib\\site-packages (from tensorboard<2.12,>=2.11->tensorflow-intel==2.11.0->tensorflow) (3.4.1)\n",
            "Requirement already satisfied: google-auth<3,>=1.6.3 in c:\\users\\mahdi\\anaconda3\\lib\\site-packages (from tensorboard<2.12,>=2.11->tensorflow-intel==2.11.0->tensorflow) (2.16.2)\n",
            "Requirement already satisfied: tensorboard-plugin-wit>=1.6.0 in c:\\users\\mahdi\\anaconda3\\lib\\site-packages (from tensorboard<2.12,>=2.11->tensorflow-intel==2.11.0->tensorflow) (1.8.1)\n",
            "Requirement already satisfied: google-auth-oauthlib<0.5,>=0.4.1 in c:\\users\\mahdi\\anaconda3\\lib\\site-packages (from tensorboard<2.12,>=2.11->tensorflow-intel==2.11.0->tensorflow) (0.4.6)\n",
            "Requirement already satisfied: werkzeug>=1.0.1 in c:\\users\\mahdi\\anaconda3\\lib\\site-packages (from tensorboard<2.12,>=2.11->tensorflow-intel==2.11.0->tensorflow) (2.0.2)\n",
            "Requirement already satisfied: requests<3,>=2.21.0 in c:\\users\\mahdi\\anaconda3\\lib\\site-packages (from tensorboard<2.12,>=2.11->tensorflow-intel==2.11.0->tensorflow) (2.26.0)\n",
            "Requirement already satisfied: cachetools<6.0,>=2.0.0 in c:\\users\\mahdi\\anaconda3\\lib\\site-packages (from google-auth<3,>=1.6.3->tensorboard<2.12,>=2.11->tensorflow-intel==2.11.0->tensorflow) (5.3.0)\n",
            "Requirement already satisfied: pyasn1-modules>=0.2.1 in c:\\users\\mahdi\\anaconda3\\lib\\site-packages (from google-auth<3,>=1.6.3->tensorboard<2.12,>=2.11->tensorflow-intel==2.11.0->tensorflow) (0.2.8)\n",
            "Requirement already satisfied: rsa<5,>=3.1.4 in c:\\users\\mahdi\\anaconda3\\lib\\site-packages (from google-auth<3,>=1.6.3->tensorboard<2.12,>=2.11->tensorflow-intel==2.11.0->tensorflow) (4.9)\n",
            "Requirement already satisfied: requests-oauthlib>=0.7.0 in c:\\users\\mahdi\\anaconda3\\lib\\site-packages (from google-auth-oauthlib<0.5,>=0.4.1->tensorboard<2.12,>=2.11->tensorflow-intel==2.11.0->tensorflow) (1.3.1)\n",
            "Requirement already satisfied: importlib-metadata>=4.4 in c:\\users\\mahdi\\anaconda3\\lib\\site-packages (from markdown>=2.6.8->tensorboard<2.12,>=2.11->tensorflow-intel==2.11.0->tensorflow) (4.8.1)\n",
            "Requirement already satisfied: zipp>=0.5 in c:\\users\\mahdi\\anaconda3\\lib\\site-packages (from importlib-metadata>=4.4->markdown>=2.6.8->tensorboard<2.12,>=2.11->tensorflow-intel==2.11.0->tensorflow) (3.6.0)\n",
            "Requirement already satisfied: pyasn1<0.5.0,>=0.4.6 in c:\\users\\mahdi\\anaconda3\\lib\\site-packages (from pyasn1-modules>=0.2.1->google-auth<3,>=1.6.3->tensorboard<2.12,>=2.11->tensorflow-intel==2.11.0->tensorflow) (0.4.8)\n",
            "Requirement already satisfied: idna<4,>=2.5 in c:\\users\\mahdi\\anaconda3\\lib\\site-packages (from requests<3,>=2.21.0->tensorboard<2.12,>=2.11->tensorflow-intel==2.11.0->tensorflow) (3.2)\n",
            "Requirement already satisfied: certifi>=2017.4.17 in c:\\users\\mahdi\\anaconda3\\lib\\site-packages (from requests<3,>=2.21.0->tensorboard<2.12,>=2.11->tensorflow-intel==2.11.0->tensorflow) (2021.10.8)\n",
            "Requirement already satisfied: charset-normalizer~=2.0.0 in c:\\users\\mahdi\\anaconda3\\lib\\site-packages (from requests<3,>=2.21.0->tensorboard<2.12,>=2.11->tensorflow-intel==2.11.0->tensorflow) (2.0.4)\n",
            "Requirement already satisfied: urllib3<1.27,>=1.21.1 in c:\\users\\mahdi\\anaconda3\\lib\\site-packages (from requests<3,>=2.21.0->tensorboard<2.12,>=2.11->tensorflow-intel==2.11.0->tensorflow) (1.26.7)\n",
            "Requirement already satisfied: oauthlib>=3.0.0 in c:\\users\\mahdi\\anaconda3\\lib\\site-packages (from requests-oauthlib>=0.7.0->google-auth-oauthlib<0.5,>=0.4.1->tensorboard<2.12,>=2.11->tensorflow-intel==2.11.0->tensorflow) (3.2.2)\n",
            "Requirement already satisfied: pyparsing>=2.0.2 in c:\\users\\mahdi\\anaconda3\\lib\\site-packages (from packaging->tensorflow-intel==2.11.0->tensorflow) (3.0.4)\n",
            "Requirement already satisfied: numpy in c:\\users\\mahdi\\anaconda3\\lib\\site-packages (1.20.3)\n",
            "Requirement already satisfied: pandas in c:\\users\\mahdi\\anaconda3\\lib\\site-packages (1.1.3)\n",
            "Requirement already satisfied: python-dateutil>=2.7.3 in c:\\users\\mahdi\\anaconda3\\lib\\site-packages (from pandas) (2.8.2)\n",
            "Requirement already satisfied: pytz>=2017.2 in c:\\users\\mahdi\\anaconda3\\lib\\site-packages (from pandas) (2021.3)\n",
            "Requirement already satisfied: numpy>=1.15.4 in c:\\users\\mahdi\\anaconda3\\lib\\site-packages (from pandas) (1.20.3)\n",
            "Requirement already satisfied: six>=1.5 in c:\\users\\mahdi\\anaconda3\\lib\\site-packages (from python-dateutil>=2.7.3->pandas) (1.16.0)\n"
          ]
        },
        {
          "name": "stdout",
          "output_type": "stream",
          "text": [
            "Requirement already satisfied: matplotlib in c:\\users\\mahdi\\anaconda3\\lib\\site-packages (3.4.3)\n",
            "Requirement already satisfied: numpy>=1.16 in c:\\users\\mahdi\\anaconda3\\lib\\site-packages (from matplotlib) (1.20.3)\n",
            "Requirement already satisfied: kiwisolver>=1.0.1 in c:\\users\\mahdi\\anaconda3\\lib\\site-packages (from matplotlib) (1.3.1)\n",
            "Requirement already satisfied: pyparsing>=2.2.1 in c:\\users\\mahdi\\anaconda3\\lib\\site-packages (from matplotlib) (3.0.4)\n",
            "Requirement already satisfied: python-dateutil>=2.7 in c:\\users\\mahdi\\anaconda3\\lib\\site-packages (from matplotlib) (2.8.2)\n",
            "Requirement already satisfied: pillow>=6.2.0 in c:\\users\\mahdi\\anaconda3\\lib\\site-packages (from matplotlib) (8.4.0)\n",
            "Requirement already satisfied: cycler>=0.10 in c:\\users\\mahdi\\anaconda3\\lib\\site-packages (from matplotlib) (0.10.0)\n",
            "Requirement already satisfied: six in c:\\users\\mahdi\\anaconda3\\lib\\site-packages (from cycler>=0.10->matplotlib) (1.16.0)\n",
            "Requirement already satisfied: opencv-python in c:\\users\\mahdi\\anaconda3\\lib\\site-packages (4.7.0.72)\n",
            "Requirement already satisfied: numpy>=1.17.3 in c:\\users\\mahdi\\anaconda3\\lib\\site-packages (from opencv-python) (1.20.3)\n"
          ]
        }
      ],
      "source": [
        "!pip install sklearn\n",
        "!pip install keras\n",
        "!pip install tensorflow\n",
        "!pip install numpy\n",
        "!pip install pandas\n",
        "!pip install matplotlib\n",
        "!pip install opencv-python"
      ]
    },
    {
      "cell_type": "code",
      "execution_count": null,
      "id": "738298ef",
      "metadata": {
        "id": "738298ef"
      },
      "outputs": [],
      "source": [
        "import os\n",
        "import random\n",
        "import shutil\n",
        "\n",
        "\n",
        "\n",
        "def Train_Validation_Test_Split(df1, df2):\n",
        "        '''\n",
        "        Creates a folder containing two subfolders for the training, validation and testing part.\n",
        "        These folders are randomly filled with the provided image data according to the specified proportions.\n",
        "\n",
        "        Args:\n",
        "                df1 (string): Name of the folder containing the original image data of the first category\n",
        "                df2 (string): Name of the folder containing the original image data of the second category\n",
        "\n",
        "        Returns:\n",
        "                list_positif_training (int): List of randomly selected images for the training part of the first category\n",
        "                list_negatif_training (int): List of randomly selected images for the training part of the second category\n",
        "                list_positif_validation (int): List of randomly selected images for the validation part of the first category\n",
        "                list_negatif_validation (int): List of randomly selected images for the validation part of the second category\n",
        "                list_positif_test (int): List of randomly selected images for the test part of the first category\n",
        "                list_negatif_test (int): List of randomly selected images for the test part of the second category\n",
        "        '''\n",
        "\n",
        "        # Determine the proportions of train, validation and test part\n",
        "        train_part_proportion = 0.6\n",
        "        validation_part_proportion = 0.2\n",
        "        test_part_proportion = 0.2\n",
        "\n",
        "\n",
        "        print('Final number of positif pictures:', len(os.listdir(df1)))\n",
        "        print('Final number of negatif pictures:', len(os.listdir(df2)))\n",
        "        print()\n",
        "        print('-----------------------------------------------------------------')\n",
        "        print()\n",
        "\n",
        "        final_length_positif = len(os.listdir(df1))\n",
        "        list_positif_full = list(range(1, final_length_positif+1))\n",
        "\n",
        "        final_length_negatif = len(os.listdir(df2))\n",
        "        list_negatif_full = list(range(1, final_length_negatif+1))\n",
        "\n",
        "        print('Start to determine test, validation and train part')\n",
        "        list_positif_test = random.sample(list_positif_full, round(len(list_positif_full)*test_part_proportion))\n",
        "        list_remaining_positif_images = [item for item in list_positif_full if item not in list_positif_test]\n",
        "\n",
        "        list_negatif_test = random.sample(list_negatif_full, round(len(list_negatif_full)*test_part_proportion))\n",
        "        list_remaining_negatif_images = [item for item in list_negatif_full if item not in list_negatif_test]\n",
        "\n",
        "        list_positif_validation = random.sample(list_remaining_positif_images,\n",
        "                                        round(len(list_positif_full)*validation_part_proportion))\n",
        "\n",
        "\n",
        "        list_negatif_validation = random.sample(list_remaining_negatif_images,\n",
        "                                        round(len(list_negatif_full)*validation_part_proportion))\n",
        "\n",
        "\n",
        "\n",
        "\n",
        "        list_positif_training = [item for item in list_remaining_positif_images if item not in list_positif_validation]\n",
        "        list_negatif_training = [item for item in list_remaining_negatif_images if item not in list_negatif_validation]\n",
        "        print('Stop to determine test, validation and train part')\n",
        "        print()\n",
        "        print('Start to set folder structure')\n",
        "        # Get root directory\n",
        "        root_directory = os.getcwd()\n",
        "\n",
        "        # Define original datasets direction\n",
        "        original_dataset_dir_positif = os.path.join(root_directory, 'positif')\n",
        "        original_dataset_dir_negatif = os.path.join(root_directory, 'negatif')\n",
        "\n",
        "        # Define base direction\n",
        "        # This is the place where the image splitting\n",
        "        # (train, validation, test) should take place.\n",
        "        base_dir = os.path.join(root_directory, 'Model')\n",
        "        os.mkdir(base_dir)\n",
        "\n",
        "\n",
        "        # Define general train, validation and test direction\n",
        "        train_dir = os.path.join(base_dir, 'train')\n",
        "        os.mkdir(train_dir)\n",
        "\n",
        "        validation_dir = os.path.join(base_dir, 'validation')\n",
        "        os.mkdir(validation_dir)\n",
        "\n",
        "        test_dir = os.path.join(base_dir, 'test')\n",
        "        os.mkdir(test_dir)\n",
        "\n",
        "        # Define train direction for positif\n",
        "        train_positif_dir = os.path.join(train_dir, 'positif')\n",
        "        os.mkdir(train_positif_dir)\n",
        "\n",
        "        # Define train direction for negatif\n",
        "        train_negatif_dir = os.path.join(train_dir, 'negatif')\n",
        "        os.mkdir(train_negatif_dir)\n",
        "\n",
        "\n",
        "        # Define validation direction for positif\n",
        "        validation_positif_dir = os.path.join(validation_dir, 'positif')\n",
        "        os.mkdir(validation_positif_dir)\n",
        "\n",
        "        # Define validation direction for negatif\n",
        "        validation_negatif_dir = os.path.join(validation_dir, 'negatif')\n",
        "        os.mkdir(validation_negatif_dir)\n",
        "\n",
        "\n",
        "        # Define test direction for positif\n",
        "        test_positif_dir = os.path.join(test_dir, 'positif')\n",
        "        os.mkdir(test_positif_dir)\n",
        "\n",
        "        # Define test direction for negatif\n",
        "        test_negatif_dir = os.path.join(test_dir, 'negatif')\n",
        "        os.mkdir(test_negatif_dir)\n",
        "\n",
        "\n",
        "        print('Stop to set folder structure')\n",
        "        print()\n",
        "\n",
        "        print('Start copying the determined images to the appropriate folders')\n",
        "        fnames = ['Positif{}.jpg'.format(i) for i in list_positif_training]\n",
        "        for fname in fnames:\n",
        "                src = os.path.join(original_dataset_dir_positif, fname)\n",
        "                dst = os.path.join(train_positif_dir, fname)\n",
        "                shutil.copyfile(src, dst)\n",
        "\n",
        "        fnames = ['Negatif{}.jpg'.format(i) for i in list_negatif_training]\n",
        "        for fname in fnames:\n",
        "                src = os.path.join(original_dataset_dir_negatif, fname)\n",
        "                dst = os.path.join(train_negatif_dir, fname)\n",
        "                shutil.copyfile(src, dst)\n",
        "\n",
        "        fnames = ['Positif{}.jpg'.format(i) for i in list_positif_validation]\n",
        "        for fname in fnames:\n",
        "                src = os.path.join(original_dataset_dir_positif, fname)\n",
        "                dst = os.path.join(validation_positif_dir, fname)\n",
        "                shutil.copyfile(src, dst)\n",
        "\n",
        "        fnames = ['Negatif{}.jpg'.format(i) for i in list_negatif_validation]\n",
        "        for fname in fnames:\n",
        "                src = os.path.join(original_dataset_dir_negatif, fname)\n",
        "                dst = os.path.join(validation_negatif_dir, fname)\n",
        "                shutil.copyfile(src, dst)\n",
        "\n",
        "        fnames = ['Positif{}.jpg'.format(i) for i in list_positif_test]\n",
        "        for fname in fnames:\n",
        "                src = os.path.join(original_dataset_dir_positif, fname)\n",
        "                dst = os.path.join(test_positif_dir, fname)\n",
        "                shutil.copyfile(src, dst)\n",
        "\n",
        "        fnames = ['Negatif{}.jpg'.format(i) for i in list_negatif_test]\n",
        "        for fname in fnames:\n",
        "                src = os.path.join(original_dataset_dir_negatif, fname)\n",
        "                dst = os.path.join(test_negatif_dir, fname)\n",
        "                shutil.copyfile(src, dst)\n",
        "\n",
        "\n",
        "        print('Stop copying the determined images to the appropriate folders')\n",
        "        print()\n",
        "        print('-----------------------------------------------------------------')\n",
        "        print()\n",
        "        print('          The final data breakdown is as follows:')\n",
        "        print()\n",
        "        print('Total training positif images:', len(os.listdir(train_positif_dir)))\n",
        "        print('Total training negatif images:', len(os.listdir(train_negatif_dir)))\n",
        "        print()\n",
        "        print('Total validation positif images:', len(os.listdir(validation_positif_dir)))\n",
        "        print('Total validation negatif images:', len(os.listdir(validation_negatif_dir)))\n",
        "        print()\n",
        "        print('Total test positif images:', len(os.listdir(test_positif_dir)))\n",
        "        print('Total test negatif images:', len(os.listdir(test_negatif_dir)))\n",
        "\n",
        "        return  list_positif_training, list_negatif_training,  \\\n",
        "                list_positif_validation, list_negatif_validation, \\\n",
        "                list_positif_test, list_negatif_test"
      ]
    },
    {
      "cell_type": "code",
      "execution_count": null,
      "id": "e824380e",
      "metadata": {
        "scrolled": true,
        "id": "e824380e",
        "outputId": "09fd3ae4-6e84-4ec8-80ba-0ba586fd8167"
      },
      "outputs": [
        {
          "name": "stdout",
          "output_type": "stream",
          "text": [
            "Final number of positif pictures: 800\n",
            "Final number of negatif pictures: 1000\n",
            "\n",
            "-----------------------------------------------------------------\n",
            "\n",
            "Start to determine test, validation and train part\n",
            "Stop to determine test, validation and train part\n",
            "\n",
            "Start to set folder structure\n",
            "Stop to set folder structure\n",
            "\n",
            "Start copying the determined images to the appropriate folders\n",
            "Stop copying the determined images to the appropriate folders\n",
            "\n",
            "-----------------------------------------------------------------\n",
            "\n",
            "          The final data breakdown is as follows:\n",
            "\n",
            "Total training positif images: 480\n",
            "Total training negatif images: 600\n",
            "\n",
            "Total validation positif images: 160\n",
            "Total validation negatif images: 200\n",
            "\n",
            "Total test positif images: 160\n",
            "Total test negatif images: 200\n",
            "Total training positif images: 480\n",
            "Total training negatif images: 600\n",
            "\n",
            "Total training images: 1080\n",
            "Total validation positif images: 160\n",
            "Total validation negatif images: 200\n",
            "\n",
            "Total validation images: 360\n",
            "Total test positif images: 160\n",
            "Total test negatif images: 200\n",
            "\n",
            "Total test images: 360\n"
          ]
        }
      ],
      "source": [
        "from preprocessing_multi_CNN import Train_Validation_Test_Split\n",
        "\n",
        "import numpy as np\n",
        "import pandas as pd\n",
        "\n",
        "import os\n",
        "import shutil\n",
        "\n",
        "import pickle as pk\n",
        "\n",
        "import cv2\n",
        "import matplotlib.pyplot as plt\n",
        "%matplotlib inline\n",
        "\n",
        "from keras import layers\n",
        "from keras import models\n",
        "from keras.callbacks import EarlyStopping, ModelCheckpoint\n",
        "from keras.preprocessing.image import ImageDataGenerator\n",
        "from keras.models import load_model\n",
        "\n",
        "from keras.applications import VGG19\n",
        "\n",
        "dir = '/content/drive/MyDrive/Computer Vision'\n",
        "positif_train, negatif_train, \\\n",
        "positif_val, negatif_val, \\\n",
        "positif_test, negatif_test = Train_Validation_Test_Split('Positif', 'Negatif')\n",
        "\n",
        "list_positif_training = positif_train\n",
        "list_negatif_training = negatif_train\n",
        "\n",
        "list_positif_validation = positif_val\n",
        "list_negatif_validation = negatif_val\n",
        "\n",
        "list_positif_test = positif_test\n",
        "list_negatif_test = negatif_test\n",
        "\n",
        "\n",
        "root_directory = os.getcwd()\n",
        "\n",
        "train_dir = os.path.join(root_directory, 'Model\\\\train')\n",
        "validation_dir = os.path.join(root_directory, 'Model\\\\validation')\n",
        "test_dir = os.path.join(root_directory, 'Model\\\\test')\n",
        "\n",
        "\n",
        "num_positif_img_train = len(list_positif_training)\n",
        "num_negatif_img_train = len(list_negatif_training)\n",
        "\n",
        "num_train_images_total = num_positif_img_train + num_negatif_img_train\n",
        "\n",
        "print('Total training positif images: ' + str(num_positif_img_train))\n",
        "print('Total training negatif images: ' + str(num_negatif_img_train))\n",
        "print()\n",
        "print('Total training images: ' + str(num_train_images_total))\n",
        "\n",
        "\n",
        "num_positif_img_validation = len(list_positif_validation)\n",
        "num_negatif_img_validation = len(list_negatif_validation)\n",
        "\n",
        "\n",
        "num_validation_images_total = num_positif_img_validation + num_negatif_img_validation\n",
        "\n",
        "print('Total validation positif images: ' + str(num_positif_img_validation))\n",
        "print('Total validation negatif images: ' + str(num_negatif_img_validation))\n",
        "print()\n",
        "print('Total validation images: ' + str(num_validation_images_total))\n",
        "\n",
        "\n",
        "num_positif_img_test = len(list_positif_test)\n",
        "num_negatif_img_test = len(list_negatif_test)\n",
        "\n",
        "\n",
        "num_test_images_total = num_positif_img_test + num_negatif_img_test\n",
        "\n",
        "print('Total test positif images: ' + str(num_positif_img_test))\n",
        "print('Total test negatif images: ' + str(num_negatif_img_test))\n",
        "print()\n",
        "print('Total test images: ' + str(num_test_images_total))\n"
      ]
    },
    {
      "cell_type": "code",
      "execution_count": null,
      "id": "6ca73ecd",
      "metadata": {
        "id": "6ca73ecd",
        "outputId": "abbd5406-8817-4796-f259-94613e41e92f"
      },
      "outputs": [
        {
          "name": "stdout",
          "output_type": "stream",
          "text": [
            "Input Shape: (150, 150, 3)\n",
            "Batch Size: 32\n",
            "\n",
            "Steps per Epoch: 33\n",
            "\n",
            "Validation Steps: 11\n",
            "Test Steps: 11\n",
            "\n",
            "Number of Epochs: 50\n",
            "\n",
            "Number of Classes: 2\n",
            "Model: \"vgg19\"\n",
            "_________________________________________________________________\n",
            " Layer (type)                Output Shape              Param #   \n",
            "=================================================================\n",
            " input_1 (InputLayer)        [(None, 150, 150, 3)]     0         \n",
            "                                                                 \n",
            " block1_conv1 (Conv2D)       (None, 150, 150, 64)      1792      \n",
            "                                                                 \n",
            " block1_conv2 (Conv2D)       (None, 150, 150, 64)      36928     \n",
            "                                                                 \n",
            " block1_pool (MaxPooling2D)  (None, 75, 75, 64)        0         \n",
            "                                                                 \n",
            " block2_conv1 (Conv2D)       (None, 75, 75, 128)       73856     \n",
            "                                                                 \n",
            " block2_conv2 (Conv2D)       (None, 75, 75, 128)       147584    \n",
            "                                                                 \n",
            " block2_pool (MaxPooling2D)  (None, 37, 37, 128)       0         \n",
            "                                                                 \n",
            " block3_conv1 (Conv2D)       (None, 37, 37, 256)       295168    \n",
            "                                                                 \n",
            " block3_conv2 (Conv2D)       (None, 37, 37, 256)       590080    \n",
            "                                                                 \n",
            " block3_conv3 (Conv2D)       (None, 37, 37, 256)       590080    \n",
            "                                                                 \n",
            " block3_conv4 (Conv2D)       (None, 37, 37, 256)       590080    \n",
            "                                                                 \n",
            " block3_pool (MaxPooling2D)  (None, 18, 18, 256)       0         \n",
            "                                                                 \n",
            " block4_conv1 (Conv2D)       (None, 18, 18, 512)       1180160   \n",
            "                                                                 \n",
            " block4_conv2 (Conv2D)       (None, 18, 18, 512)       2359808   \n",
            "                                                                 \n",
            " block4_conv3 (Conv2D)       (None, 18, 18, 512)       2359808   \n",
            "                                                                 \n",
            " block4_conv4 (Conv2D)       (None, 18, 18, 512)       2359808   \n",
            "                                                                 \n",
            " block4_pool (MaxPooling2D)  (None, 9, 9, 512)         0         \n",
            "                                                                 \n",
            " block5_conv1 (Conv2D)       (None, 9, 9, 512)         2359808   \n",
            "                                                                 \n",
            " block5_conv2 (Conv2D)       (None, 9, 9, 512)         2359808   \n",
            "                                                                 \n",
            " block5_conv3 (Conv2D)       (None, 9, 9, 512)         2359808   \n",
            "                                                                 \n",
            " block5_conv4 (Conv2D)       (None, 9, 9, 512)         2359808   \n",
            "                                                                 \n",
            " block5_pool (MaxPooling2D)  (None, 4, 4, 512)         0         \n",
            "                                                                 \n",
            "=================================================================\n",
            "Total params: 20,024,384\n",
            "Trainable params: 20,024,384\n",
            "Non-trainable params: 0\n",
            "_________________________________________________________________\n"
          ]
        }
      ],
      "source": [
        "checkpoint_no = 'ckpt_1_CNN_with_TF_VGG19_with_DataAug'\n",
        "model_name = 'Covid_CNN_TF_VGG19_epoch_30_ES'\n",
        "\n",
        "\n",
        "img_height = 150\n",
        "img_width = 150\n",
        "input_shape = (img_height, img_width, 3)\n",
        "\n",
        "n_batch_size = 32\n",
        "\n",
        "n_steps_per_epoch = int(num_train_images_total / n_batch_size)\n",
        "n_validation_steps = int(num_validation_images_total / n_batch_size)\n",
        "n_test_steps = int(num_test_images_total / n_batch_size)\n",
        "\n",
        "n_epochs = 50\n",
        "\n",
        "num_classes = len(os.listdir(train_dir))\n",
        "\n",
        "print('Input Shape: '+'('+str(img_height)+', '+str(img_width)+', ' + str(3)+')')\n",
        "print('Batch Size: ' + str(n_batch_size))\n",
        "print()\n",
        "print('Steps per Epoch: ' + str(n_steps_per_epoch))\n",
        "print()\n",
        "print('Validation Steps: ' + str(n_validation_steps))\n",
        "print('Test Steps: ' + str(n_test_steps))\n",
        "print()\n",
        "print('Number of Epochs: ' + str(n_epochs))\n",
        "print()\n",
        "print('Number of Classes: ' + str(num_classes))\n",
        "\n",
        "\n",
        "VGG19_base = VGG19(weights='imagenet',\n",
        "                  include_top=False,\n",
        "                  input_shape=input_shape)\n",
        "\n",
        "conv_base = VGG19_base\n",
        "\n",
        "\n",
        "conv_base.summary()"
      ]
    },
    {
      "cell_type": "code",
      "execution_count": null,
      "id": "845e84aa",
      "metadata": {
        "id": "845e84aa",
        "outputId": "7d5d298f-8f2e-4b7b-8be9-1715aceaa614"
      },
      "outputs": [
        {
          "name": "stdout",
          "output_type": "stream",
          "text": [
            "Model: \"sequential\"\n",
            "_________________________________________________________________\n",
            " Layer (type)                Output Shape              Param #   \n",
            "=================================================================\n",
            " vgg19 (Functional)          (None, 4, 4, 512)         20024384  \n",
            "                                                                 \n",
            " flatten (Flatten)           (None, 8192)              0         \n",
            "                                                                 \n",
            " dense (Dense)               (None, 256)               2097408   \n",
            "                                                                 \n",
            " dense_1 (Dense)             (None, 2)                 514       \n",
            "                                                                 \n",
            "=================================================================\n",
            "Total params: 22,122,306\n",
            "Trainable params: 22,122,306\n",
            "Non-trainable params: 0\n",
            "_________________________________________________________________\n",
            "Number of trainable weights before freezing the conv base: 36\n",
            "Model: \"sequential_1\"\n",
            "_________________________________________________________________\n",
            " Layer (type)                Output Shape              Param #   \n",
            "=================================================================\n",
            " vgg19 (Functional)          (None, 4, 4, 512)         20024384  \n",
            "                                                                 \n",
            " flatten_1 (Flatten)         (None, 8192)              0         \n",
            "                                                                 \n",
            " dense_2 (Dense)             (None, 256)               2097408   \n",
            "                                                                 \n",
            " dense_3 (Dense)             (None, 2)                 514       \n",
            "                                                                 \n",
            "=================================================================\n",
            "Total params: 22,122,306\n",
            "Trainable params: 2,097,922\n",
            "Non-trainable params: 20,024,384\n",
            "_________________________________________________________________\n",
            "Number of trainable weights after freezing the conv base: 4\n"
          ]
        }
      ],
      "source": [
        "model = models.Sequential()\n",
        "model.add(conv_base)\n",
        "model.add(layers.Flatten())\n",
        "model.add(layers.Dense(256, activation='relu'))\n",
        "model.add(layers.Dense(num_classes, activation='softmax'))\n",
        "\n",
        "\n",
        "model.summary()\n",
        "\n",
        "\n",
        "print('Number of trainable weights before freezing the conv base:', len(model.trainable_weights))\n",
        "\n",
        "\n",
        "conv_base.trainable = False\n",
        "\n",
        "model = models.Sequential()\n",
        "model.add(conv_base)\n",
        "model.add(layers.Flatten())\n",
        "model.add(layers.Dense(256, activation='relu'))\n",
        "model.add(layers.Dense(num_classes, activation='softmax'))\n",
        "\n",
        "\n",
        "model.summary()\n",
        "\n",
        "\n",
        "print('Number of trainable weights after freezing the conv base:', len(model.trainable_weights))"
      ]
    },
    {
      "cell_type": "code",
      "execution_count": null,
      "id": "64ce5414",
      "metadata": {
        "id": "64ce5414",
        "outputId": "8998b05f-ef9e-4971-bde6-00f6b2d83b1e"
      },
      "outputs": [
        {
          "name": "stdout",
          "output_type": "stream",
          "text": [
            "Found 1080 images belonging to 2 classes.\n",
            "Found 360 images belonging to 2 classes.\n",
            "Epoch 1/50\n",
            "33/33 [==============================] - ETA: 0s - loss: 0.7809 - accuracy: 0.7347"
          ]
        },
        {
          "name": "stderr",
          "output_type": "stream",
          "text": [
            "WARNING:absl:Found untraced functions such as _update_step_xla, _jit_compiled_convolution_op, _jit_compiled_convolution_op, _jit_compiled_convolution_op, _jit_compiled_convolution_op while saving (showing 5 of 17). These functions will not be directly callable after loading.\n"
          ]
        },
        {
          "name": "stdout",
          "output_type": "stream",
          "text": [
            "INFO:tensorflow:Assets written to: ckpt_1_CNN_with_TF_VGG19_with_DataAug\\assets\n"
          ]
        },
        {
          "name": "stderr",
          "output_type": "stream",
          "text": [
            "INFO:tensorflow:Assets written to: ckpt_1_CNN_with_TF_VGG19_with_DataAug\\assets\n"
          ]
        },
        {
          "name": "stdout",
          "output_type": "stream",
          "text": [
            "33/33 [==============================] - 63s 2s/step - loss: 0.7809 - accuracy: 0.7347 - val_loss: 0.3456 - val_accuracy: 0.8381\n",
            "Epoch 2/50\n",
            "33/33 [==============================] - ETA: 0s - loss: 0.4119 - accuracy: 0.8101"
          ]
        },
        {
          "name": "stderr",
          "output_type": "stream",
          "text": [
            "WARNING:absl:Found untraced functions such as _update_step_xla, _jit_compiled_convolution_op, _jit_compiled_convolution_op, _jit_compiled_convolution_op, _jit_compiled_convolution_op while saving (showing 5 of 17). These functions will not be directly callable after loading.\n"
          ]
        },
        {
          "name": "stdout",
          "output_type": "stream",
          "text": [
            "INFO:tensorflow:Assets written to: ckpt_1_CNN_with_TF_VGG19_with_DataAug\\assets\n"
          ]
        },
        {
          "name": "stderr",
          "output_type": "stream",
          "text": [
            "INFO:tensorflow:Assets written to: ckpt_1_CNN_with_TF_VGG19_with_DataAug\\assets\n"
          ]
        },
        {
          "name": "stdout",
          "output_type": "stream",
          "text": [
            "33/33 [==============================] - 59s 2s/step - loss: 0.4119 - accuracy: 0.8101 - val_loss: 0.3265 - val_accuracy: 0.8551\n",
            "Epoch 3/50\n",
            "33/33 [==============================] - ETA: 0s - loss: 0.3728 - accuracy: 0.8454"
          ]
        },
        {
          "name": "stderr",
          "output_type": "stream",
          "text": [
            "WARNING:absl:Found untraced functions such as _update_step_xla, _jit_compiled_convolution_op, _jit_compiled_convolution_op, _jit_compiled_convolution_op, _jit_compiled_convolution_op while saving (showing 5 of 17). These functions will not be directly callable after loading.\n"
          ]
        },
        {
          "name": "stdout",
          "output_type": "stream",
          "text": [
            "INFO:tensorflow:Assets written to: ckpt_1_CNN_with_TF_VGG19_with_DataAug\\assets\n"
          ]
        },
        {
          "name": "stderr",
          "output_type": "stream",
          "text": [
            "INFO:tensorflow:Assets written to: ckpt_1_CNN_with_TF_VGG19_with_DataAug\\assets\n"
          ]
        },
        {
          "name": "stdout",
          "output_type": "stream",
          "text": [
            "33/33 [==============================] - 59s 2s/step - loss: 0.3728 - accuracy: 0.8454 - val_loss: 0.3093 - val_accuracy: 0.8636\n",
            "Epoch 4/50\n",
            "33/33 [==============================] - 56s 2s/step - loss: 0.3497 - accuracy: 0.8483 - val_loss: 0.3097 - val_accuracy: 0.8636\n",
            "Epoch 5/50\n",
            "33/33 [==============================] - 57s 2s/step - loss: 0.3655 - accuracy: 0.8416 - val_loss: 0.3102 - val_accuracy: 0.8608\n",
            "Epoch 6/50\n",
            "33/33 [==============================] - ETA: 0s - loss: 0.3535 - accuracy: 0.8511"
          ]
        },
        {
          "name": "stderr",
          "output_type": "stream",
          "text": [
            "WARNING:absl:Found untraced functions such as _update_step_xla, _jit_compiled_convolution_op, _jit_compiled_convolution_op, _jit_compiled_convolution_op, _jit_compiled_convolution_op while saving (showing 5 of 17). These functions will not be directly callable after loading.\n"
          ]
        },
        {
          "name": "stdout",
          "output_type": "stream",
          "text": [
            "INFO:tensorflow:Assets written to: ckpt_1_CNN_with_TF_VGG19_with_DataAug\\assets\n"
          ]
        },
        {
          "name": "stderr",
          "output_type": "stream",
          "text": [
            "INFO:tensorflow:Assets written to: ckpt_1_CNN_with_TF_VGG19_with_DataAug\\assets\n"
          ]
        },
        {
          "name": "stdout",
          "output_type": "stream",
          "text": [
            "33/33 [==============================] - 59s 2s/step - loss: 0.3535 - accuracy: 0.8511 - val_loss: 0.2987 - val_accuracy: 0.8778\n",
            "Epoch 7/50\n",
            "33/33 [==============================] - 55s 2s/step - loss: 0.3451 - accuracy: 0.8569 - val_loss: 0.4179 - val_accuracy: 0.8267\n",
            "Epoch 8/50\n",
            "33/33 [==============================] - ETA: 0s - loss: 0.3537 - accuracy: 0.8492"
          ]
        },
        {
          "name": "stderr",
          "output_type": "stream",
          "text": [
            "WARNING:absl:Found untraced functions such as _update_step_xla, _jit_compiled_convolution_op, _jit_compiled_convolution_op, _jit_compiled_convolution_op, _jit_compiled_convolution_op while saving (showing 5 of 17). These functions will not be directly callable after loading.\n"
          ]
        },
        {
          "name": "stdout",
          "output_type": "stream",
          "text": [
            "INFO:tensorflow:Assets written to: ckpt_1_CNN_with_TF_VGG19_with_DataAug\\assets\n"
          ]
        },
        {
          "name": "stderr",
          "output_type": "stream",
          "text": [
            "INFO:tensorflow:Assets written to: ckpt_1_CNN_with_TF_VGG19_with_DataAug\\assets\n"
          ]
        },
        {
          "name": "stdout",
          "output_type": "stream",
          "text": [
            "33/33 [==============================] - 58s 2s/step - loss: 0.3537 - accuracy: 0.8492 - val_loss: 0.2861 - val_accuracy: 0.8750\n",
            "Epoch 9/50\n",
            "33/33 [==============================] - 57s 2s/step - loss: 0.3666 - accuracy: 0.8330 - val_loss: 0.2910 - val_accuracy: 0.8835\n",
            "Epoch 10/50\n",
            "33/33 [==============================] - 57s 2s/step - loss: 0.3500 - accuracy: 0.8464 - val_loss: 0.2912 - val_accuracy: 0.8693\n",
            "Epoch 11/50\n",
            "33/33 [==============================] - 58s 2s/step - loss: 0.3430 - accuracy: 0.8551 - val_loss: 0.3878 - val_accuracy: 0.8068\n",
            "Epoch 12/50\n",
            "33/33 [==============================] - ETA: 0s - loss: 0.3573 - accuracy: 0.8416"
          ]
        },
        {
          "name": "stderr",
          "output_type": "stream",
          "text": [
            "WARNING:absl:Found untraced functions such as _update_step_xla, _jit_compiled_convolution_op, _jit_compiled_convolution_op, _jit_compiled_convolution_op, _jit_compiled_convolution_op while saving (showing 5 of 17). These functions will not be directly callable after loading.\n"
          ]
        },
        {
          "name": "stdout",
          "output_type": "stream",
          "text": [
            "INFO:tensorflow:Assets written to: ckpt_1_CNN_with_TF_VGG19_with_DataAug\\assets\n"
          ]
        },
        {
          "name": "stderr",
          "output_type": "stream",
          "text": [
            "INFO:tensorflow:Assets written to: ckpt_1_CNN_with_TF_VGG19_with_DataAug\\assets\n"
          ]
        },
        {
          "name": "stdout",
          "output_type": "stream",
          "text": [
            "33/33 [==============================] - 58s 2s/step - loss: 0.3573 - accuracy: 0.8416 - val_loss: 0.2805 - val_accuracy: 0.8722\n",
            "Epoch 13/50\n",
            "33/33 [==============================] - 53s 2s/step - loss: 0.3423 - accuracy: 0.8426 - val_loss: 0.2860 - val_accuracy: 0.8636\n",
            "Epoch 14/50\n",
            "33/33 [==============================] - 53s 2s/step - loss: 0.3321 - accuracy: 0.8540 - val_loss: 0.3842 - val_accuracy: 0.8182\n",
            "Epoch 15/50\n",
            "33/33 [==============================] - 53s 2s/step - loss: 0.3151 - accuracy: 0.8483 - val_loss: 0.4697 - val_accuracy: 0.7727\n",
            "Epoch 16/50\n",
            "33/33 [==============================] - 53s 2s/step - loss: 0.3422 - accuracy: 0.8502 - val_loss: 0.3622 - val_accuracy: 0.8267\n",
            "Epoch 17/50\n",
            "33/33 [==============================] - 56s 2s/step - loss: 0.3495 - accuracy: 0.8511 - val_loss: 0.3517 - val_accuracy: 0.8352\n",
            "Epoch 18/50\n",
            "33/33 [==============================] - ETA: 0s - loss: 0.3129 - accuracy: 0.8674"
          ]
        },
        {
          "name": "stderr",
          "output_type": "stream",
          "text": [
            "WARNING:absl:Found untraced functions such as _update_step_xla, _jit_compiled_convolution_op, _jit_compiled_convolution_op, _jit_compiled_convolution_op, _jit_compiled_convolution_op while saving (showing 5 of 17). These functions will not be directly callable after loading.\n"
          ]
        },
        {
          "name": "stdout",
          "output_type": "stream",
          "text": [
            "INFO:tensorflow:Assets written to: ckpt_1_CNN_with_TF_VGG19_with_DataAug\\assets\n"
          ]
        },
        {
          "name": "stderr",
          "output_type": "stream",
          "text": [
            "INFO:tensorflow:Assets written to: ckpt_1_CNN_with_TF_VGG19_with_DataAug\\assets\n"
          ]
        },
        {
          "name": "stdout",
          "output_type": "stream",
          "text": [
            "33/33 [==============================] - 59s 2s/step - loss: 0.3129 - accuracy: 0.8674 - val_loss: 0.2713 - val_accuracy: 0.8835\n",
            "Epoch 19/50\n",
            "33/33 [==============================] - ETA: 0s - loss: 0.3278 - accuracy: 0.8626"
          ]
        },
        {
          "name": "stderr",
          "output_type": "stream",
          "text": [
            "WARNING:absl:Found untraced functions such as _update_step_xla, _jit_compiled_convolution_op, _jit_compiled_convolution_op, _jit_compiled_convolution_op, _jit_compiled_convolution_op while saving (showing 5 of 17). These functions will not be directly callable after loading.\n"
          ]
        },
        {
          "name": "stdout",
          "output_type": "stream",
          "text": [
            "INFO:tensorflow:Assets written to: ckpt_1_CNN_with_TF_VGG19_with_DataAug\\assets\n"
          ]
        },
        {
          "name": "stderr",
          "output_type": "stream",
          "text": [
            "INFO:tensorflow:Assets written to: ckpt_1_CNN_with_TF_VGG19_with_DataAug\\assets\n"
          ]
        },
        {
          "name": "stdout",
          "output_type": "stream",
          "text": [
            "33/33 [==============================] - 56s 2s/step - loss: 0.3278 - accuracy: 0.8626 - val_loss: 0.2570 - val_accuracy: 0.8835\n",
            "Epoch 20/50\n",
            "33/33 [==============================] - 53s 2s/step - loss: 0.3215 - accuracy: 0.8531 - val_loss: 0.2960 - val_accuracy: 0.8608\n",
            "Epoch 21/50\n",
            "33/33 [==============================] - 68s 2s/step - loss: 0.3039 - accuracy: 0.8693 - val_loss: 0.3121 - val_accuracy: 0.8636\n",
            "Epoch 22/50\n",
            "33/33 [==============================] - 63s 2s/step - loss: 0.3225 - accuracy: 0.8550 - val_loss: 0.2706 - val_accuracy: 0.8835\n",
            "Epoch 23/50\n",
            "33/33 [==============================] - 65s 2s/step - loss: 0.3080 - accuracy: 0.8616 - val_loss: 0.2787 - val_accuracy: 0.8750\n",
            "Epoch 24/50\n",
            "33/33 [==============================] - 62s 2s/step - loss: 0.3281 - accuracy: 0.8550 - val_loss: 0.3737 - val_accuracy: 0.8324\n",
            "Epoch 25/50\n",
            "33/33 [==============================] - 59s 2s/step - loss: 0.3102 - accuracy: 0.8626 - val_loss: 0.2815 - val_accuracy: 0.8665\n",
            "Epoch 26/50\n",
            "33/33 [==============================] - 59s 2s/step - loss: 0.3028 - accuracy: 0.8655 - val_loss: 0.2909 - val_accuracy: 0.8636\n",
            "Epoch 27/50\n",
            "33/33 [==============================] - 59s 2s/step - loss: 0.2985 - accuracy: 0.8712 - val_loss: 0.2696 - val_accuracy: 0.8750\n",
            "Epoch 28/50\n",
            "33/33 [==============================] - 63s 2s/step - loss: 0.3219 - accuracy: 0.8531 - val_loss: 0.2642 - val_accuracy: 0.8920\n",
            "Epoch 29/50\n",
            "33/33 [==============================] - 58s 2s/step - loss: 0.3371 - accuracy: 0.8473 - val_loss: 0.2617 - val_accuracy: 0.8892\n",
            "Epoch 30/50\n",
            "33/33 [==============================] - 56s 2s/step - loss: 0.3332 - accuracy: 0.8492 - val_loss: 0.2765 - val_accuracy: 0.8722\n",
            "Epoch 31/50\n",
            "33/33 [==============================] - 59s 2s/step - loss: 0.3062 - accuracy: 0.8635 - val_loss: 0.2709 - val_accuracy: 0.8693\n",
            "Epoch 32/50\n",
            "33/33 [==============================] - 56s 2s/step - loss: 0.2987 - accuracy: 0.8702 - val_loss: 0.3626 - val_accuracy: 0.8438\n",
            "Epoch 33/50\n",
            "33/33 [==============================] - 58s 2s/step - loss: 0.3454 - accuracy: 0.8531 - val_loss: 0.2617 - val_accuracy: 0.8807\n",
            "Epoch 34/50\n",
            "33/33 [==============================] - 56s 2s/step - loss: 0.3368 - accuracy: 0.8607 - val_loss: 0.3455 - val_accuracy: 0.8494\n",
            "Epoch 35/50\n",
            "33/33 [==============================] - 58s 2s/step - loss: 0.3058 - accuracy: 0.8635 - val_loss: 0.2930 - val_accuracy: 0.8580\n",
            "Epoch 36/50\n",
            "33/33 [==============================] - 59s 2s/step - loss: 0.2935 - accuracy: 0.8740 - val_loss: 0.2802 - val_accuracy: 0.8722\n",
            "Epoch 37/50\n",
            "33/33 [==============================] - 59s 2s/step - loss: 0.3094 - accuracy: 0.8635 - val_loss: 0.2955 - val_accuracy: 0.8636\n",
            "Epoch 38/50\n",
            "33/33 [==============================] - 59s 2s/step - loss: 0.3109 - accuracy: 0.8664 - val_loss: 0.2725 - val_accuracy: 0.8665\n",
            "Epoch 39/50\n",
            "33/33 [==============================] - 58s 2s/step - loss: 0.3077 - accuracy: 0.8760 - val_loss: 0.2867 - val_accuracy: 0.8608\n",
            "Epoch 40/50\n",
            "33/33 [==============================] - 61s 2s/step - loss: 0.2924 - accuracy: 0.8740 - val_loss: 0.2983 - val_accuracy: 0.8551\n",
            "Epoch 41/50\n",
            "33/33 [==============================] - 59s 2s/step - loss: 0.2938 - accuracy: 0.8693 - val_loss: 0.2993 - val_accuracy: 0.8665\n",
            "Epoch 42/50\n",
            "33/33 [==============================] - 57s 2s/step - loss: 0.3203 - accuracy: 0.8483 - val_loss: 0.2625 - val_accuracy: 0.8892\n",
            "Epoch 43/50\n",
            "33/33 [==============================] - 59s 2s/step - loss: 0.3166 - accuracy: 0.8616 - val_loss: 0.2583 - val_accuracy: 0.8949\n",
            "Epoch 44/50\n",
            "33/33 [==============================] - 66s 2s/step - loss: 0.2945 - accuracy: 0.8655 - val_loss: 0.2851 - val_accuracy: 0.8722\n",
            "Epoch 45/50\n",
            "33/33 [==============================] - 65s 2s/step - loss: 0.2901 - accuracy: 0.8769 - val_loss: 0.3248 - val_accuracy: 0.8381\n",
            "Epoch 46/50\n",
            "33/33 [==============================] - 59s 2s/step - loss: 0.3057 - accuracy: 0.8721 - val_loss: 0.2692 - val_accuracy: 0.8778\n",
            "Epoch 47/50\n",
            "33/33 [==============================] - 61s 2s/step - loss: 0.2838 - accuracy: 0.8788 - val_loss: 0.2616 - val_accuracy: 0.8864\n",
            "Epoch 48/50\n",
            "33/33 [==============================] - ETA: 0s - loss: 0.2952 - accuracy: 0.8674"
          ]
        },
        {
          "name": "stderr",
          "output_type": "stream",
          "text": [
            "WARNING:absl:Found untraced functions such as _update_step_xla, _jit_compiled_convolution_op, _jit_compiled_convolution_op, _jit_compiled_convolution_op, _jit_compiled_convolution_op while saving (showing 5 of 17). These functions will not be directly callable after loading.\n"
          ]
        },
        {
          "name": "stdout",
          "output_type": "stream",
          "text": [
            "INFO:tensorflow:Assets written to: ckpt_1_CNN_with_TF_VGG19_with_DataAug\\assets\n"
          ]
        },
        {
          "name": "stderr",
          "output_type": "stream",
          "text": [
            "INFO:tensorflow:Assets written to: ckpt_1_CNN_with_TF_VGG19_with_DataAug\\assets\n"
          ]
        },
        {
          "name": "stdout",
          "output_type": "stream",
          "text": [
            "33/33 [==============================] - 63s 2s/step - loss: 0.2952 - accuracy: 0.8674 - val_loss: 0.2485 - val_accuracy: 0.8920\n",
            "Epoch 49/50\n",
            "33/33 [==============================] - 57s 2s/step - loss: 0.2768 - accuracy: 0.8817 - val_loss: 0.3388 - val_accuracy: 0.8295\n",
            "Epoch 50/50\n",
            "33/33 [==============================] - 59s 2s/step - loss: 0.3028 - accuracy: 0.8664 - val_loss: 0.2594 - val_accuracy: 0.8892\n"
          ]
        },
        {
          "data": {
            "text/html": [
              "<div>\n",
              "<style scoped>\n",
              "    .dataframe tbody tr th:only-of-type {\n",
              "        vertical-align: middle;\n",
              "    }\n",
              "\n",
              "    .dataframe tbody tr th {\n",
              "        vertical-align: top;\n",
              "    }\n",
              "\n",
              "    .dataframe thead th {\n",
              "        text-align: right;\n",
              "    }\n",
              "</style>\n",
              "<table border=\"1\" class=\"dataframe\">\n",
              "  <thead>\n",
              "    <tr style=\"text-align: right;\">\n",
              "      <th></th>\n",
              "      <th>epoch</th>\n",
              "      <th>loss</th>\n",
              "      <th>accuracy</th>\n",
              "      <th>val_loss</th>\n",
              "      <th>val_accuracy</th>\n",
              "    </tr>\n",
              "  </thead>\n",
              "  <tbody>\n",
              "    <tr>\n",
              "      <th>47</th>\n",
              "      <td>48</td>\n",
              "      <td>0.295205</td>\n",
              "      <td>0.867366</td>\n",
              "      <td>0.24846</td>\n",
              "      <td>0.892045</td>\n",
              "    </tr>\n",
              "  </tbody>\n",
              "</table>\n",
              "</div>"
            ],
            "text/plain": [
              "    epoch      loss  accuracy  val_loss  val_accuracy\n",
              "47     48  0.295205  0.867366   0.24846      0.892045"
            ]
          },
          "execution_count": 7,
          "metadata": {},
          "output_type": "execute_result"
        }
      ],
      "source": [
        "model.compile(loss='categorical_crossentropy',\n",
        "              optimizer='adam',\n",
        "              metrics=['accuracy'])\n",
        "\n",
        "\n",
        "train_datagen = ImageDataGenerator(\n",
        "    rescale=1./255,\n",
        "    rotation_range=40,\n",
        "    width_shift_range=0.2,\n",
        "    height_shift_range=0.2,\n",
        "    shear_range=0.2,\n",
        "    zoom_range=0.2,\n",
        "    horizontal_flip=True,)\n",
        "\n",
        "validation_datagen = ImageDataGenerator(rescale=1./255)\n",
        "\n",
        "\n",
        "train_generator = train_datagen.flow_from_directory(\n",
        "        train_dir,\n",
        "        target_size=(img_height, img_width),\n",
        "        batch_size=n_batch_size,\n",
        "        class_mode='categorical')\n",
        "\n",
        "\n",
        "validation_generator = validation_datagen.flow_from_directory(\n",
        "        validation_dir,\n",
        "        target_size=(img_height, img_width),\n",
        "        batch_size=n_batch_size,\n",
        "        class_mode='categorical')\n",
        "\n",
        "\n",
        "# Prepare a directory to store all the checkpoints.\n",
        "checkpoint_dir = checkpoint_no\n",
        "if not os.path.exists(checkpoint_dir):\n",
        "    os.makedirs(checkpoint_dir)\n",
        "\n",
        "\n",
        "keras_callbacks = [ModelCheckpoint(filepath = checkpoint_dir,\n",
        "                                   monitor='val_loss', save_best_only=True, mode='auto')]\n",
        "                   #EarlyStopping(monitor='val_loss', patience=5, mode='auto',\n",
        "                                 #min_delta = 0, verbose=1)]\n",
        "\n",
        "\n",
        "history = model.fit(\n",
        "      train_generator,\n",
        "      steps_per_epoch=n_steps_per_epoch,\n",
        "      epochs=n_epochs,\n",
        "      validation_data=validation_generator,\n",
        "      validation_steps=n_validation_steps,\n",
        "      callbacks=keras_callbacks)\n",
        "\n",
        "\n",
        "hist_df = pd.DataFrame(history.history)\n",
        "hist_df['epoch'] = hist_df.index + 1\n",
        "cols = list(hist_df.columns)\n",
        "cols = [cols[-1]] + cols[:-1]\n",
        "hist_df = hist_df[cols]\n",
        "hist_df.to_csv(checkpoint_no + '/' + 'history_df_' + model_name + '.csv')\n",
        "hist_df.head()\n",
        "\n",
        "\n",
        "values_of_best_model = hist_df[hist_df.val_loss == hist_df.val_loss.min()]\n",
        "values_of_best_model"
      ]
    },
    {
      "cell_type": "code",
      "execution_count": null,
      "id": "54ca00bf",
      "metadata": {
        "id": "54ca00bf",
        "outputId": "f85e0e9f-1488-44ab-b727-3dc3e0437761"
      },
      "outputs": [
        {
          "name": "stdout",
          "output_type": "stream",
          "text": [
            "Class assignment: {'negatif': 0, 'positif': 1}\n"
          ]
        },
        {
          "data": {
            "image/png": "[encoded data removed]",
            "text/plain": [
              "<Figure size 432x288 with 1 Axes>"
            ]
          },
          "metadata": {
            "needs_background": "light"
          },
          "output_type": "display_data"
        },
        {
          "data": {
            "image/png": "[encoded data removed]",
            "text/plain": [
              "<Figure size 432x288 with 1 Axes>"
            ]
          },
          "metadata": {
            "needs_background": "light"
          },
          "output_type": "display_data"
        },
        {
          "data": {
            "image/png": "[encoded data removed]",
            "text/plain": [
              "<Figure size 432x288 with 1 Axes>"
            ]
          },
          "metadata": {
            "needs_background": "light"
          },
          "output_type": "display_data"
        }
      ],
      "source": [
        "class_assignment = train_generator.class_indices\n",
        "\n",
        "df = pd.DataFrame([class_assignment], columns=class_assignment.keys())\n",
        "df_stacked = df.stack()\n",
        "df_temp = pd.DataFrame(df_stacked).reset_index().drop(['level_0'], axis=1)\n",
        "df_temp.columns = ['Category', 'Allocated Number']\n",
        "df_temp.to_csv(checkpoint_no + '/' + 'class_assignment_df_' + model_name + '.csv')\n",
        "\n",
        "print('Class assignment:', str(class_assignment))\n",
        "\n",
        "\n",
        "acc = history.history['accuracy']\n",
        "val_acc = history.history['val_accuracy']\n",
        "loss = history.history['loss']\n",
        "val_loss = history.history['val_loss']\n",
        "\n",
        "epochs = range(1, len(acc) + 1)\n",
        "\n",
        "plt.plot(epochs, acc, 'bo', label='Training acc')\n",
        "plt.plot(epochs, val_acc, 'b', label='Validation acc')\n",
        "plt.title('Training and validation accuracy')\n",
        "plt.legend()\n",
        "\n",
        "plt.figure()\n",
        "\n",
        "plt.plot(epochs, loss, 'bo', label='Training loss')\n",
        "plt.plot(epochs, val_loss, 'b', label='Validation loss')\n",
        "plt.title('Training and validation loss')\n",
        "plt.legend()\n",
        "\n",
        "plt.figure()\n",
        "\n",
        "plt.plot(epochs, acc, 'purple', label='Training acc')\n",
        "plt.plot(epochs, val_acc, 'deeppink', linestyle='--', label='Validation acc')\n",
        "plt.plot(epochs, loss, 'darkorange', label='Training loss')\n",
        "plt.plot(epochs, val_loss, 'orange', linestyle='--', label='Validation loss')\n",
        "plt.title('Training and validation accuracy and loss')\n",
        "plt.legend()\n",
        "\n",
        "plt.show()"
      ]
    },
    {
      "cell_type": "code",
      "execution_count": null,
      "id": "3c82344e",
      "metadata": {
        "id": "3c82344e"
      },
      "outputs": [],
      "source": [
        "# Loading the automatically saved model\n",
        "model_reloaded = load_model(checkpoint_no)\n",
        "\n",
        "# Saving the best model in the correct path and format\n",
        "root_directory = os.getcwd()\n",
        "checkpoint_dir = os.path.join(root_directory, checkpoint_no)\n",
        "model_name_temp = os.path.join(checkpoint_dir, model_name + '.h5')\n",
        "model_reloaded.save(model_name_temp)\n",
        "\n",
        "# Deletion of the automatically created folders/.pb file under Model Checkpoint File.\n",
        "folder_name_temp1 = os.path.join(checkpoint_dir, 'assets')\n",
        "folder_name_temp2 = os.path.join(checkpoint_dir, 'variables')\n",
        "file_name_temp = os.path.join(checkpoint_dir, 'saved_model.pb')\n",
        "\n",
        "shutil.move(file_name_temp, folder_name_temp1)\n",
        "shutil.rmtree(folder_name_temp1, ignore_errors=True)\n",
        "shutil.rmtree(folder_name_temp2, ignore_errors=True)"
      ]
    },
    {
      "cell_type": "code",
      "execution_count": null,
      "id": "7eb6270d",
      "metadata": {
        "id": "7eb6270d"
      },
      "outputs": [],
      "source": [
        "best_model = load_model(model_name_temp)"
      ]
    },
    {
      "cell_type": "code",
      "execution_count": null,
      "id": "6b2f32a6",
      "metadata": {
        "id": "6b2f32a6",
        "outputId": "a290a0fb-412e-41d0-fd29-7b6bec9592c5"
      },
      "outputs": [
        {
          "name": "stdout",
          "output_type": "stream",
          "text": [
            "Found 360 images belonging to 2 classes.\n",
            "11/11 [==============================] - 16s 1s/step - loss: 0.2496 - accuracy: 0.8920\n",
            "\n",
            "Test Accuracy: 0.8920454382896423\n"
          ]
        }
      ],
      "source": [
        "test_datagen = ImageDataGenerator(rescale=1./255)\n",
        "\n",
        "test_generator = test_datagen.flow_from_directory(\n",
        "        test_dir,\n",
        "        target_size=(img_height, img_width),\n",
        "        batch_size=n_batch_size,\n",
        "        class_mode='categorical')\n",
        "\n",
        "test_loss, test_acc = best_model.evaluate(test_generator, steps=n_test_steps)\n",
        "print()\n",
        "print('Test Accuracy:', test_acc)\n",
        "\n",
        "pk.dump(img_height, open(checkpoint_dir+ '\\\\' +'img_height.pkl', 'wb'))\n",
        "pk.dump(img_width, open(checkpoint_dir+ '\\\\' +'img_width.pkl', 'wb'))"
      ]
    },
    {
      "cell_type": "code",
      "execution_count": null,
      "id": "0bba4627",
      "metadata": {
        "id": "0bba4627",
        "outputId": "773aae6b-a893-4feb-e958-cbc700122bee"
      },
      "outputs": [
        {
          "name": "stdout",
          "output_type": "stream",
          "text": [
            "Model: \"sequential_1\"\n",
            "_________________________________________________________________\n",
            " Layer (type)                Output Shape              Param #   \n",
            "=================================================================\n",
            " vgg19 (Functional)          (None, 4, 4, 512)         20024384  \n",
            "                                                                 \n",
            " flatten_1 (Flatten)         (None, 8192)              0         \n",
            "                                                                 \n",
            " dense_2 (Dense)             (None, 256)               2097408   \n",
            "                                                                 \n",
            " dense_3 (Dense)             (None, 2)                 514       \n",
            "                                                                 \n",
            "=================================================================\n",
            "Total params: 22,122,306\n",
            "Trainable params: 2,097,922\n",
            "Non-trainable params: 20,024,384\n",
            "_________________________________________________________________\n",
            "Model Summary :None\n",
            "\n",
            "\n",
            "CATEGORIES : ['negatif', 'positif']\n",
            "\n",
            "Used image height: 150\n",
            "Used image width: 150\n"
          ]
        }
      ],
      "source": [
        "# Determine Checkpoint Dir\n",
        "checkpoint_dir = 'ckpt_1_CNN_with_TF_VGG19_with_DataAug'\n",
        "\n",
        "# Load best model\n",
        "best_model = load_model(checkpoint_dir + '/' + 'Covid_CNN_TF_VGG19_epoch_30_ES.h5')\n",
        "\n",
        "# Load the categories\n",
        "df = pd.read_csv(checkpoint_dir + '/' + 'class_assignment_df_Covid_CNN_TF_VGG19_epoch_30_ES.csv')\n",
        "df = df.sort_values(by='Allocated Number', ascending=True)\n",
        "CATEGORIES = df['Category'].to_list()\n",
        "\n",
        "\n",
        "# Load the used image height and width\n",
        "img_height_reload = pk.load(open(checkpoint_dir + '/' + 'img_height.pkl','rb'))\n",
        "img_width_reload = pk.load(open(checkpoint_dir + '/' + 'img_width.pkl','rb'))\n",
        "\n",
        "\n",
        "print('Model Summary :' + str(best_model.summary()))\n",
        "print()\n",
        "print()\n",
        "print('CATEGORIES : ' + str(CATEGORIES))\n",
        "print()\n",
        "print('Used image height: ' + str(img_height_reload))\n",
        "print('Used image width: ' + str(img_width_reload))"
      ]
    },
    {
      "cell_type": "code",
      "execution_count": null,
      "id": "4a7941d2",
      "metadata": {
        "id": "4a7941d2",
        "outputId": "65f8e3f3-a459-4acf-9535-6b5350289b90"
      },
      "outputs": [
        {
          "name": "stdout",
          "output_type": "stream",
          "text": [
            "AxesImage(54,36;334.8x217.44)\n",
            "1/1 [==============================] - 0s 251ms/step\n",
            "\n",
            "------------------------------------\n",
            "Predicted Class: negatif\n",
            "------------------------------------\n"
          ]
        },
        {
          "data": {
            "image/png": "[encoded data removed]",
            "text/plain": [
              "<Figure size 432x288 with 1 Axes>"
            ]
          },
          "metadata": {
            "needs_background": "light"
          },
          "output_type": "display_data"
        }
      ],
      "source": [
        "img_pred = cv2.imread('C:/Users/mahdi/Computer Vision Deteksi Covid-19/Testing/NORMAL-TEST1.JPG')\n",
        "\n",
        "print(plt.imshow(cv2.cvtColor(img_pred, cv2.COLOR_BGR2RGB)))\n",
        "\n",
        "img_pred = cv2.resize(img_pred,(img_height_reload,img_width_reload))\n",
        "img_pred = np.reshape(img_pred,[1,img_height_reload,img_width_reload,3])\n",
        "\n",
        "classes = np.argmax(best_model.predict(img_pred), axis=-1)\n",
        "\n",
        "print()\n",
        "print('------------------------------------')\n",
        "print('Predicted Class: ' + CATEGORIES[int(classes[0])])\n",
        "print('------------------------------------')"
      ]
    }
  ],
  "metadata": {
    "kernelspec": {
      "display_name": "Python 3 (ipykernel)",
      "language": "python",
      "name": "python3"
    },
    "language_info": {
      "codemirror_mode": {
        "name": "ipython",
        "version": 3
      },
      "file_extension": ".py",
      "mimetype": "text/x-python",
      "name": "python",
      "nbconvert_exporter": "python",
      "pygments_lexer": "ipython3",
      "version": "3.9.7"
    },
    "colab": {
      "provenance": []
    }
  },
  "nbformat": 4,
  "nbformat_minor": 5
}